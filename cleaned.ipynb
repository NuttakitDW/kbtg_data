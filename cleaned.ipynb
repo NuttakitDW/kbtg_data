{
  "nbformat": 4,
  "nbformat_minor": 0,
  "metadata": {
    "colab": {
      "name": "cleaned.ipynb",
      "provenance": [],
      "collapsed_sections": [],
      "include_colab_link": true
    },
    "kernelspec": {
      "name": "python3",
      "display_name": "Python 3"
    },
    "accelerator": "GPU"
  },
  "cells": [
    {
      "cell_type": "markdown",
      "metadata": {
        "id": "view-in-github",
        "colab_type": "text"
      },
      "source": [
        "<a href=\"https://colab.research.google.com/github/NuttakitDW/kbtg_data/blob/master/cleaned.ipynb\" target=\"_parent\"><img src=\"https://colab.research.google.com/assets/colab-badge.svg\" alt=\"Open In Colab\"/></a>"
      ]
    },
    {
      "cell_type": "code",
      "metadata": {
        "id": "H6Z48_n-6qGg",
        "colab_type": "code",
        "colab": {}
      },
      "source": [
        "import pandas as pd\n",
        "import numpy as np\n",
        "import matplotlib.pyplot as plt"
      ],
      "execution_count": 0,
      "outputs": []
    },
    {
      "cell_type": "code",
      "metadata": {
        "id": "-YtcN9pN9JtB",
        "colab_type": "code",
        "colab": {}
      },
      "source": [
        "cc = pd.read_csv('https://raw.githubusercontent.com/NuttakitDW/kbtg_data/master/cc.csv')\n",
        "dmg = pd.read_csv('https://raw.githubusercontent.com/NuttakitDW/kbtg_data/master/demographics.csv')\n",
        "kplus = pd.read_csv('https://raw.githubusercontent.com/NuttakitDW/kbtg_data/master/kplus.csv')\n",
        "train = pd.read_csv('https://raw.githubusercontent.com/NuttakitDW/kbtg_data/master/train.csv')\n",
        "test = pd.read_csv('https://raw.githubusercontent.com/NuttakitDW/kbtg_data/master/test.csv')"
      ],
      "execution_count": 0,
      "outputs": []
    },
    {
      "cell_type": "code",
      "metadata": {
        "id": "DOfuFOcnPw4V",
        "colab_type": "code",
        "outputId": "0a3c65ca-c90c-424b-8a00-63db24fc33ad",
        "colab": {
          "base_uri": "https://localhost:8080/",
          "height": 202
        }
      },
      "source": [
        "cc.sort_values(\"cc_no\", inplace = True)\n",
        "cc.head()"
      ],
      "execution_count": 32,
      "outputs": [
        {
          "output_type": "execute_result",
          "data": {
            "text/html": [
              "<div>\n",
              "<style scoped>\n",
              "    .dataframe tbody tr th:only-of-type {\n",
              "        vertical-align: middle;\n",
              "    }\n",
              "\n",
              "    .dataframe tbody tr th {\n",
              "        vertical-align: top;\n",
              "    }\n",
              "\n",
              "    .dataframe thead th {\n",
              "        text-align: right;\n",
              "    }\n",
              "</style>\n",
              "<table border=\"1\" class=\"dataframe\">\n",
              "  <thead>\n",
              "    <tr style=\"text-align: right;\">\n",
              "      <th></th>\n",
              "      <th>cc_no</th>\n",
              "      <th>pos_dt</th>\n",
              "      <th>cc_txn_amt</th>\n",
              "    </tr>\n",
              "  </thead>\n",
              "  <tbody>\n",
              "    <tr>\n",
              "      <th>30686</th>\n",
              "      <td>2</td>\n",
              "      <td>2018-06-04</td>\n",
              "      <td>1000</td>\n",
              "    </tr>\n",
              "    <tr>\n",
              "      <th>30680</th>\n",
              "      <td>2</td>\n",
              "      <td>2018-03-10</td>\n",
              "      <td>800</td>\n",
              "    </tr>\n",
              "    <tr>\n",
              "      <th>30681</th>\n",
              "      <td>2</td>\n",
              "      <td>2018-05-14</td>\n",
              "      <td>800</td>\n",
              "    </tr>\n",
              "    <tr>\n",
              "      <th>30682</th>\n",
              "      <td>2</td>\n",
              "      <td>2018-05-07</td>\n",
              "      <td>800</td>\n",
              "    </tr>\n",
              "    <tr>\n",
              "      <th>30683</th>\n",
              "      <td>2</td>\n",
              "      <td>2018-06-11</td>\n",
              "      <td>1000</td>\n",
              "    </tr>\n",
              "  </tbody>\n",
              "</table>\n",
              "</div>"
            ],
            "text/plain": [
              "       cc_no      pos_dt  cc_txn_amt\n",
              "30686      2  2018-06-04        1000\n",
              "30680      2  2018-03-10         800\n",
              "30681      2  2018-05-14         800\n",
              "30682      2  2018-05-07         800\n",
              "30683      2  2018-06-11        1000"
            ]
          },
          "metadata": {
            "tags": []
          },
          "execution_count": 32
        }
      ]
    },
    {
      "cell_type": "code",
      "metadata": {
        "id": "g9z0tWJiOMZ6",
        "colab_type": "code",
        "outputId": "fda5385a-d49d-45be-f66e-0ca64935d50a",
        "colab": {
          "base_uri": "https://localhost:8080/",
          "height": 202
        }
      },
      "source": [
        "cc2 = cc.copy()\n",
        "cc2 = cc2.drop('pos_dt', axis=1)\n",
        "cc2.head()"
      ],
      "execution_count": 33,
      "outputs": [
        {
          "output_type": "execute_result",
          "data": {
            "text/html": [
              "<div>\n",
              "<style scoped>\n",
              "    .dataframe tbody tr th:only-of-type {\n",
              "        vertical-align: middle;\n",
              "    }\n",
              "\n",
              "    .dataframe tbody tr th {\n",
              "        vertical-align: top;\n",
              "    }\n",
              "\n",
              "    .dataframe thead th {\n",
              "        text-align: right;\n",
              "    }\n",
              "</style>\n",
              "<table border=\"1\" class=\"dataframe\">\n",
              "  <thead>\n",
              "    <tr style=\"text-align: right;\">\n",
              "      <th></th>\n",
              "      <th>cc_no</th>\n",
              "      <th>cc_txn_amt</th>\n",
              "    </tr>\n",
              "  </thead>\n",
              "  <tbody>\n",
              "    <tr>\n",
              "      <th>30686</th>\n",
              "      <td>2</td>\n",
              "      <td>1000</td>\n",
              "    </tr>\n",
              "    <tr>\n",
              "      <th>30680</th>\n",
              "      <td>2</td>\n",
              "      <td>800</td>\n",
              "    </tr>\n",
              "    <tr>\n",
              "      <th>30681</th>\n",
              "      <td>2</td>\n",
              "      <td>800</td>\n",
              "    </tr>\n",
              "    <tr>\n",
              "      <th>30682</th>\n",
              "      <td>2</td>\n",
              "      <td>800</td>\n",
              "    </tr>\n",
              "    <tr>\n",
              "      <th>30683</th>\n",
              "      <td>2</td>\n",
              "      <td>1000</td>\n",
              "    </tr>\n",
              "  </tbody>\n",
              "</table>\n",
              "</div>"
            ],
            "text/plain": [
              "       cc_no  cc_txn_amt\n",
              "30686      2        1000\n",
              "30680      2         800\n",
              "30681      2         800\n",
              "30682      2         800\n",
              "30683      2        1000"
            ]
          },
          "metadata": {
            "tags": []
          },
          "execution_count": 33
        }
      ]
    },
    {
      "cell_type": "code",
      "metadata": {
        "id": "uxMdZu_mRHnq",
        "colab_type": "code",
        "outputId": "e7bb86ac-d0fb-4338-e47c-0e7a064d79ed",
        "colab": {
          "base_uri": "https://localhost:8080/",
          "height": 202
        }
      },
      "source": [
        "cc2 = cc2.groupby(['cc_no'])['cc_txn_amt'].sum().reset_index()\n",
        "cc2.head()"
      ],
      "execution_count": 34,
      "outputs": [
        {
          "output_type": "execute_result",
          "data": {
            "text/html": [
              "<div>\n",
              "<style scoped>\n",
              "    .dataframe tbody tr th:only-of-type {\n",
              "        vertical-align: middle;\n",
              "    }\n",
              "\n",
              "    .dataframe tbody tr th {\n",
              "        vertical-align: top;\n",
              "    }\n",
              "\n",
              "    .dataframe thead th {\n",
              "        text-align: right;\n",
              "    }\n",
              "</style>\n",
              "<table border=\"1\" class=\"dataframe\">\n",
              "  <thead>\n",
              "    <tr style=\"text-align: right;\">\n",
              "      <th></th>\n",
              "      <th>cc_no</th>\n",
              "      <th>cc_txn_amt</th>\n",
              "    </tr>\n",
              "  </thead>\n",
              "  <tbody>\n",
              "    <tr>\n",
              "      <th>0</th>\n",
              "      <td>2</td>\n",
              "      <td>26900</td>\n",
              "    </tr>\n",
              "    <tr>\n",
              "      <th>1</th>\n",
              "      <td>4</td>\n",
              "      <td>540000</td>\n",
              "    </tr>\n",
              "    <tr>\n",
              "      <th>2</th>\n",
              "      <td>5</td>\n",
              "      <td>12000</td>\n",
              "    </tr>\n",
              "    <tr>\n",
              "      <th>3</th>\n",
              "      <td>6</td>\n",
              "      <td>32000</td>\n",
              "    </tr>\n",
              "    <tr>\n",
              "      <th>4</th>\n",
              "      <td>7</td>\n",
              "      <td>16200</td>\n",
              "    </tr>\n",
              "  </tbody>\n",
              "</table>\n",
              "</div>"
            ],
            "text/plain": [
              "   cc_no  cc_txn_amt\n",
              "0      2       26900\n",
              "1      4      540000\n",
              "2      5       12000\n",
              "3      6       32000\n",
              "4      7       16200"
            ]
          },
          "metadata": {
            "tags": []
          },
          "execution_count": 34
        }
      ]
    },
    {
      "cell_type": "code",
      "metadata": {
        "colab_type": "code",
        "outputId": "fc850b28-d58c-49f6-ceff-9173d836664c",
        "id": "ilNixq8EA7mI",
        "colab": {
          "base_uri": "https://localhost:8080/",
          "height": 202
        }
      },
      "source": [
        "dmg2 = dmg.copy()\n",
        "dmg2 = dmg2.merge(cc2, how='left', on='cc_no').fillna(0)\n",
        "dmg2.head()"
      ],
      "execution_count": 35,
      "outputs": [
        {
          "output_type": "execute_result",
          "data": {
            "text/html": [
              "<div>\n",
              "<style scoped>\n",
              "    .dataframe tbody tr th:only-of-type {\n",
              "        vertical-align: middle;\n",
              "    }\n",
              "\n",
              "    .dataframe tbody tr th {\n",
              "        vertical-align: top;\n",
              "    }\n",
              "\n",
              "    .dataframe thead th {\n",
              "        text-align: right;\n",
              "    }\n",
              "</style>\n",
              "<table border=\"1\" class=\"dataframe\">\n",
              "  <thead>\n",
              "    <tr style=\"text-align: right;\">\n",
              "      <th></th>\n",
              "      <th>id</th>\n",
              "      <th>cc_no</th>\n",
              "      <th>gender</th>\n",
              "      <th>ocp_cd</th>\n",
              "      <th>age</th>\n",
              "      <th>cc_txn_amt</th>\n",
              "    </tr>\n",
              "  </thead>\n",
              "  <tbody>\n",
              "    <tr>\n",
              "      <th>0</th>\n",
              "      <td>1</td>\n",
              "      <td>1</td>\n",
              "      <td>2</td>\n",
              "      <td>9.0</td>\n",
              "      <td>5</td>\n",
              "      <td>0.0</td>\n",
              "    </tr>\n",
              "    <tr>\n",
              "      <th>1</th>\n",
              "      <td>1</td>\n",
              "      <td>98397</td>\n",
              "      <td>2</td>\n",
              "      <td>9.0</td>\n",
              "      <td>5</td>\n",
              "      <td>44700.0</td>\n",
              "    </tr>\n",
              "    <tr>\n",
              "      <th>2</th>\n",
              "      <td>2</td>\n",
              "      <td>2</td>\n",
              "      <td>2</td>\n",
              "      <td>3.0</td>\n",
              "      <td>4</td>\n",
              "      <td>26900.0</td>\n",
              "    </tr>\n",
              "    <tr>\n",
              "      <th>3</th>\n",
              "      <td>2</td>\n",
              "      <td>9740</td>\n",
              "      <td>2</td>\n",
              "      <td>3.0</td>\n",
              "      <td>4</td>\n",
              "      <td>38300.0</td>\n",
              "    </tr>\n",
              "    <tr>\n",
              "      <th>4</th>\n",
              "      <td>3</td>\n",
              "      <td>3</td>\n",
              "      <td>2</td>\n",
              "      <td>1.0</td>\n",
              "      <td>3</td>\n",
              "      <td>0.0</td>\n",
              "    </tr>\n",
              "  </tbody>\n",
              "</table>\n",
              "</div>"
            ],
            "text/plain": [
              "   id  cc_no  gender  ocp_cd  age  cc_txn_amt\n",
              "0   1      1       2     9.0    5         0.0\n",
              "1   1  98397       2     9.0    5     44700.0\n",
              "2   2      2       2     3.0    4     26900.0\n",
              "3   2   9740       2     3.0    4     38300.0\n",
              "4   3      3       2     1.0    3         0.0"
            ]
          },
          "metadata": {
            "tags": []
          },
          "execution_count": 35
        }
      ]
    },
    {
      "cell_type": "code",
      "metadata": {
        "id": "Qe6gI-iEc8Li",
        "colab_type": "code",
        "outputId": "cee5efa5-1afe-45f3-9356-05d8868b6b80",
        "colab": {
          "base_uri": "https://localhost:8080/",
          "height": 202
        }
      },
      "source": [
        "idc = dmg2.groupby(['id'])['cc_txn_amt'].sum().reset_index()\n",
        "idc.head()"
      ],
      "execution_count": 36,
      "outputs": [
        {
          "output_type": "execute_result",
          "data": {
            "text/html": [
              "<div>\n",
              "<style scoped>\n",
              "    .dataframe tbody tr th:only-of-type {\n",
              "        vertical-align: middle;\n",
              "    }\n",
              "\n",
              "    .dataframe tbody tr th {\n",
              "        vertical-align: top;\n",
              "    }\n",
              "\n",
              "    .dataframe thead th {\n",
              "        text-align: right;\n",
              "    }\n",
              "</style>\n",
              "<table border=\"1\" class=\"dataframe\">\n",
              "  <thead>\n",
              "    <tr style=\"text-align: right;\">\n",
              "      <th></th>\n",
              "      <th>id</th>\n",
              "      <th>cc_txn_amt</th>\n",
              "    </tr>\n",
              "  </thead>\n",
              "  <tbody>\n",
              "    <tr>\n",
              "      <th>0</th>\n",
              "      <td>1</td>\n",
              "      <td>44700.0</td>\n",
              "    </tr>\n",
              "    <tr>\n",
              "      <th>1</th>\n",
              "      <td>2</td>\n",
              "      <td>65200.0</td>\n",
              "    </tr>\n",
              "    <tr>\n",
              "      <th>2</th>\n",
              "      <td>3</td>\n",
              "      <td>0.0</td>\n",
              "    </tr>\n",
              "    <tr>\n",
              "      <th>3</th>\n",
              "      <td>4</td>\n",
              "      <td>770000.0</td>\n",
              "    </tr>\n",
              "    <tr>\n",
              "      <th>4</th>\n",
              "      <td>5</td>\n",
              "      <td>12000.0</td>\n",
              "    </tr>\n",
              "  </tbody>\n",
              "</table>\n",
              "</div>"
            ],
            "text/plain": [
              "   id  cc_txn_amt\n",
              "0   1     44700.0\n",
              "1   2     65200.0\n",
              "2   3         0.0\n",
              "3   4    770000.0\n",
              "4   5     12000.0"
            ]
          },
          "metadata": {
            "tags": []
          },
          "execution_count": 36
        }
      ]
    },
    {
      "cell_type": "code",
      "metadata": {
        "id": "oShw_GtYbD_t",
        "colab_type": "code",
        "outputId": "a2b75310-833b-4e33-d6a7-7daf1d5ca30e",
        "colab": {
          "base_uri": "https://localhost:8080/",
          "height": 202
        }
      },
      "source": [
        "mdf = dmg.drop('cc_no', axis=1)\n",
        "mdf = mdf.drop_duplicates()\n",
        "mdf.head()"
      ],
      "execution_count": 37,
      "outputs": [
        {
          "output_type": "execute_result",
          "data": {
            "text/html": [
              "<div>\n",
              "<style scoped>\n",
              "    .dataframe tbody tr th:only-of-type {\n",
              "        vertical-align: middle;\n",
              "    }\n",
              "\n",
              "    .dataframe tbody tr th {\n",
              "        vertical-align: top;\n",
              "    }\n",
              "\n",
              "    .dataframe thead th {\n",
              "        text-align: right;\n",
              "    }\n",
              "</style>\n",
              "<table border=\"1\" class=\"dataframe\">\n",
              "  <thead>\n",
              "    <tr style=\"text-align: right;\">\n",
              "      <th></th>\n",
              "      <th>id</th>\n",
              "      <th>gender</th>\n",
              "      <th>ocp_cd</th>\n",
              "      <th>age</th>\n",
              "    </tr>\n",
              "  </thead>\n",
              "  <tbody>\n",
              "    <tr>\n",
              "      <th>0</th>\n",
              "      <td>1</td>\n",
              "      <td>2</td>\n",
              "      <td>9.0</td>\n",
              "      <td>5</td>\n",
              "    </tr>\n",
              "    <tr>\n",
              "      <th>2</th>\n",
              "      <td>2</td>\n",
              "      <td>2</td>\n",
              "      <td>3.0</td>\n",
              "      <td>4</td>\n",
              "    </tr>\n",
              "    <tr>\n",
              "      <th>4</th>\n",
              "      <td>3</td>\n",
              "      <td>2</td>\n",
              "      <td>1.0</td>\n",
              "      <td>3</td>\n",
              "    </tr>\n",
              "    <tr>\n",
              "      <th>5</th>\n",
              "      <td>4</td>\n",
              "      <td>2</td>\n",
              "      <td>3.0</td>\n",
              "      <td>5</td>\n",
              "    </tr>\n",
              "    <tr>\n",
              "      <th>7</th>\n",
              "      <td>5</td>\n",
              "      <td>2</td>\n",
              "      <td>9.0</td>\n",
              "      <td>4</td>\n",
              "    </tr>\n",
              "  </tbody>\n",
              "</table>\n",
              "</div>"
            ],
            "text/plain": [
              "   id  gender  ocp_cd  age\n",
              "0   1       2     9.0    5\n",
              "2   2       2     3.0    4\n",
              "4   3       2     1.0    3\n",
              "5   4       2     3.0    5\n",
              "7   5       2     9.0    4"
            ]
          },
          "metadata": {
            "tags": []
          },
          "execution_count": 37
        }
      ]
    },
    {
      "cell_type": "code",
      "metadata": {
        "id": "K6qNaVw-vW4_",
        "colab_type": "code",
        "outputId": "5f209d4c-6733-44a4-aedc-62709d4b797e",
        "colab": {
          "base_uri": "https://localhost:8080/",
          "height": 202
        }
      },
      "source": [
        "main = mdf.copy()\n",
        "main.tail()"
      ],
      "execution_count": 38,
      "outputs": [
        {
          "output_type": "execute_result",
          "data": {
            "text/html": [
              "<div>\n",
              "<style scoped>\n",
              "    .dataframe tbody tr th:only-of-type {\n",
              "        vertical-align: middle;\n",
              "    }\n",
              "\n",
              "    .dataframe tbody tr th {\n",
              "        vertical-align: top;\n",
              "    }\n",
              "\n",
              "    .dataframe thead th {\n",
              "        text-align: right;\n",
              "    }\n",
              "</style>\n",
              "<table border=\"1\" class=\"dataframe\">\n",
              "  <thead>\n",
              "    <tr style=\"text-align: right;\">\n",
              "      <th></th>\n",
              "      <th>id</th>\n",
              "      <th>gender</th>\n",
              "      <th>ocp_cd</th>\n",
              "      <th>age</th>\n",
              "    </tr>\n",
              "  </thead>\n",
              "  <tbody>\n",
              "    <tr>\n",
              "      <th>102404</th>\n",
              "      <td>64996</td>\n",
              "      <td>2</td>\n",
              "      <td>3.0</td>\n",
              "      <td>2</td>\n",
              "    </tr>\n",
              "    <tr>\n",
              "      <th>102405</th>\n",
              "      <td>64997</td>\n",
              "      <td>2</td>\n",
              "      <td>3.0</td>\n",
              "      <td>2</td>\n",
              "    </tr>\n",
              "    <tr>\n",
              "      <th>102406</th>\n",
              "      <td>64998</td>\n",
              "      <td>1</td>\n",
              "      <td>9.0</td>\n",
              "      <td>3</td>\n",
              "    </tr>\n",
              "    <tr>\n",
              "      <th>102407</th>\n",
              "      <td>64999</td>\n",
              "      <td>2</td>\n",
              "      <td>3.0</td>\n",
              "      <td>3</td>\n",
              "    </tr>\n",
              "    <tr>\n",
              "      <th>102408</th>\n",
              "      <td>65000</td>\n",
              "      <td>2</td>\n",
              "      <td>9.0</td>\n",
              "      <td>4</td>\n",
              "    </tr>\n",
              "  </tbody>\n",
              "</table>\n",
              "</div>"
            ],
            "text/plain": [
              "           id  gender  ocp_cd  age\n",
              "102404  64996       2     3.0    2\n",
              "102405  64997       2     3.0    2\n",
              "102406  64998       1     9.0    3\n",
              "102407  64999       2     3.0    3\n",
              "102408  65000       2     9.0    4"
            ]
          },
          "metadata": {
            "tags": []
          },
          "execution_count": 38
        }
      ]
    },
    {
      "cell_type": "code",
      "metadata": {
        "id": "rEKGkOcPfFfc",
        "colab_type": "code",
        "outputId": "7fdad3a2-66f3-4f86-e0e4-1f82cd06fd2a",
        "colab": {
          "base_uri": "https://localhost:8080/",
          "height": 202
        }
      },
      "source": [
        "main['income'] = train['income']\n",
        "main.head()"
      ],
      "execution_count": 39,
      "outputs": [
        {
          "output_type": "execute_result",
          "data": {
            "text/html": [
              "<div>\n",
              "<style scoped>\n",
              "    .dataframe tbody tr th:only-of-type {\n",
              "        vertical-align: middle;\n",
              "    }\n",
              "\n",
              "    .dataframe tbody tr th {\n",
              "        vertical-align: top;\n",
              "    }\n",
              "\n",
              "    .dataframe thead th {\n",
              "        text-align: right;\n",
              "    }\n",
              "</style>\n",
              "<table border=\"1\" class=\"dataframe\">\n",
              "  <thead>\n",
              "    <tr style=\"text-align: right;\">\n",
              "      <th></th>\n",
              "      <th>id</th>\n",
              "      <th>gender</th>\n",
              "      <th>ocp_cd</th>\n",
              "      <th>age</th>\n",
              "      <th>income</th>\n",
              "    </tr>\n",
              "  </thead>\n",
              "  <tbody>\n",
              "    <tr>\n",
              "      <th>0</th>\n",
              "      <td>1</td>\n",
              "      <td>2</td>\n",
              "      <td>9.0</td>\n",
              "      <td>5</td>\n",
              "      <td>20000.0</td>\n",
              "    </tr>\n",
              "    <tr>\n",
              "      <th>2</th>\n",
              "      <td>2</td>\n",
              "      <td>2</td>\n",
              "      <td>3.0</td>\n",
              "      <td>4</td>\n",
              "      <td>29000.0</td>\n",
              "    </tr>\n",
              "    <tr>\n",
              "      <th>4</th>\n",
              "      <td>3</td>\n",
              "      <td>2</td>\n",
              "      <td>1.0</td>\n",
              "      <td>3</td>\n",
              "      <td>18000.0</td>\n",
              "    </tr>\n",
              "    <tr>\n",
              "      <th>5</th>\n",
              "      <td>4</td>\n",
              "      <td>2</td>\n",
              "      <td>3.0</td>\n",
              "      <td>5</td>\n",
              "      <td>19000.0</td>\n",
              "    </tr>\n",
              "    <tr>\n",
              "      <th>7</th>\n",
              "      <td>5</td>\n",
              "      <td>2</td>\n",
              "      <td>9.0</td>\n",
              "      <td>4</td>\n",
              "      <td>16000.0</td>\n",
              "    </tr>\n",
              "  </tbody>\n",
              "</table>\n",
              "</div>"
            ],
            "text/plain": [
              "   id  gender  ocp_cd  age   income\n",
              "0   1       2     9.0    5  20000.0\n",
              "2   2       2     3.0    4  29000.0\n",
              "4   3       2     1.0    3  18000.0\n",
              "5   4       2     3.0    5  19000.0\n",
              "7   5       2     9.0    4  16000.0"
            ]
          },
          "metadata": {
            "tags": []
          },
          "execution_count": 39
        }
      ]
    },
    {
      "cell_type": "code",
      "metadata": {
        "id": "WQ_27kQ9nvNJ",
        "colab_type": "code",
        "outputId": "3e4da971-b8f7-44b0-c054-1a485d87098b",
        "colab": {
          "base_uri": "https://localhost:8080/",
          "height": 202
        }
      },
      "source": [
        "kcount = kplus.groupby(['id'])['kp_txn_count'].sum().reset_index()\n",
        "kamt = kplus.groupby(['id'])['kp_txn_amt'].sum().reset_index()\n",
        "kamt.tail()"
      ],
      "execution_count": 41,
      "outputs": [
        {
          "output_type": "execute_result",
          "data": {
            "text/html": [
              "<div>\n",
              "<style scoped>\n",
              "    .dataframe tbody tr th:only-of-type {\n",
              "        vertical-align: middle;\n",
              "    }\n",
              "\n",
              "    .dataframe tbody tr th {\n",
              "        vertical-align: top;\n",
              "    }\n",
              "\n",
              "    .dataframe thead th {\n",
              "        text-align: right;\n",
              "    }\n",
              "</style>\n",
              "<table border=\"1\" class=\"dataframe\">\n",
              "  <thead>\n",
              "    <tr style=\"text-align: right;\">\n",
              "      <th></th>\n",
              "      <th>id</th>\n",
              "      <th>kp_txn_amt</th>\n",
              "    </tr>\n",
              "  </thead>\n",
              "  <tbody>\n",
              "    <tr>\n",
              "      <th>49264</th>\n",
              "      <td>64995</td>\n",
              "      <td>960500</td>\n",
              "    </tr>\n",
              "    <tr>\n",
              "      <th>49265</th>\n",
              "      <td>64996</td>\n",
              "      <td>41200</td>\n",
              "    </tr>\n",
              "    <tr>\n",
              "      <th>49266</th>\n",
              "      <td>64997</td>\n",
              "      <td>201200</td>\n",
              "    </tr>\n",
              "    <tr>\n",
              "      <th>49267</th>\n",
              "      <td>64998</td>\n",
              "      <td>162000</td>\n",
              "    </tr>\n",
              "    <tr>\n",
              "      <th>49268</th>\n",
              "      <td>64999</td>\n",
              "      <td>494800</td>\n",
              "    </tr>\n",
              "  </tbody>\n",
              "</table>\n",
              "</div>"
            ],
            "text/plain": [
              "          id  kp_txn_amt\n",
              "49264  64995      960500\n",
              "49265  64996       41200\n",
              "49266  64997      201200\n",
              "49267  64998      162000\n",
              "49268  64999      494800"
            ]
          },
          "metadata": {
            "tags": []
          },
          "execution_count": 41
        }
      ]
    },
    {
      "cell_type": "code",
      "metadata": {
        "id": "gJ80Zg-qIYoO",
        "colab_type": "code",
        "outputId": "7a11dc06-e98b-4ca2-c026-39f0ff459495",
        "colab": {
          "base_uri": "https://localhost:8080/",
          "height": 202
        }
      },
      "source": [
        "main = main.merge(kcount, how='left', on='id').fillna(0)\n",
        "main = main.merge(kamt, how='left', on='id').fillna(0)\n",
        "main.head()"
      ],
      "execution_count": 42,
      "outputs": [
        {
          "output_type": "execute_result",
          "data": {
            "text/html": [
              "<div>\n",
              "<style scoped>\n",
              "    .dataframe tbody tr th:only-of-type {\n",
              "        vertical-align: middle;\n",
              "    }\n",
              "\n",
              "    .dataframe tbody tr th {\n",
              "        vertical-align: top;\n",
              "    }\n",
              "\n",
              "    .dataframe thead th {\n",
              "        text-align: right;\n",
              "    }\n",
              "</style>\n",
              "<table border=\"1\" class=\"dataframe\">\n",
              "  <thead>\n",
              "    <tr style=\"text-align: right;\">\n",
              "      <th></th>\n",
              "      <th>id</th>\n",
              "      <th>gender</th>\n",
              "      <th>ocp_cd</th>\n",
              "      <th>age</th>\n",
              "      <th>income</th>\n",
              "      <th>kp_txn_count</th>\n",
              "      <th>kp_txn_amt</th>\n",
              "    </tr>\n",
              "  </thead>\n",
              "  <tbody>\n",
              "    <tr>\n",
              "      <th>0</th>\n",
              "      <td>1</td>\n",
              "      <td>2</td>\n",
              "      <td>9.0</td>\n",
              "      <td>5</td>\n",
              "      <td>20000.0</td>\n",
              "      <td>2.0</td>\n",
              "      <td>3500.0</td>\n",
              "    </tr>\n",
              "    <tr>\n",
              "      <th>1</th>\n",
              "      <td>2</td>\n",
              "      <td>2</td>\n",
              "      <td>3.0</td>\n",
              "      <td>4</td>\n",
              "      <td>29000.0</td>\n",
              "      <td>104.0</td>\n",
              "      <td>210000.0</td>\n",
              "    </tr>\n",
              "    <tr>\n",
              "      <th>2</th>\n",
              "      <td>3</td>\n",
              "      <td>2</td>\n",
              "      <td>1.0</td>\n",
              "      <td>3</td>\n",
              "      <td>18000.0</td>\n",
              "      <td>70.0</td>\n",
              "      <td>139700.0</td>\n",
              "    </tr>\n",
              "    <tr>\n",
              "      <th>3</th>\n",
              "      <td>4</td>\n",
              "      <td>2</td>\n",
              "      <td>3.0</td>\n",
              "      <td>5</td>\n",
              "      <td>19000.0</td>\n",
              "      <td>315.0</td>\n",
              "      <td>6076100.0</td>\n",
              "    </tr>\n",
              "    <tr>\n",
              "      <th>4</th>\n",
              "      <td>5</td>\n",
              "      <td>2</td>\n",
              "      <td>9.0</td>\n",
              "      <td>4</td>\n",
              "      <td>16000.0</td>\n",
              "      <td>0.0</td>\n",
              "      <td>0.0</td>\n",
              "    </tr>\n",
              "  </tbody>\n",
              "</table>\n",
              "</div>"
            ],
            "text/plain": [
              "   id  gender  ocp_cd  age   income  kp_txn_count  kp_txn_amt\n",
              "0   1       2     9.0    5  20000.0           2.0      3500.0\n",
              "1   2       2     3.0    4  29000.0         104.0    210000.0\n",
              "2   3       2     1.0    3  18000.0          70.0    139700.0\n",
              "3   4       2     3.0    5  19000.0         315.0   6076100.0\n",
              "4   5       2     9.0    4  16000.0           0.0         0.0"
            ]
          },
          "metadata": {
            "tags": []
          },
          "execution_count": 42
        }
      ]
    },
    {
      "cell_type": "code",
      "metadata": {
        "id": "hwSDy6HhUr_8",
        "colab_type": "code",
        "outputId": "89c0424c-d4fe-4695-f1e3-a68f76568c85",
        "colab": {
          "base_uri": "https://localhost:8080/",
          "height": 202
        }
      },
      "source": [
        "main['cd_ex'] = idc['cc_txn_amt']\n",
        "main.head()"
      ],
      "execution_count": 43,
      "outputs": [
        {
          "output_type": "execute_result",
          "data": {
            "text/html": [
              "<div>\n",
              "<style scoped>\n",
              "    .dataframe tbody tr th:only-of-type {\n",
              "        vertical-align: middle;\n",
              "    }\n",
              "\n",
              "    .dataframe tbody tr th {\n",
              "        vertical-align: top;\n",
              "    }\n",
              "\n",
              "    .dataframe thead th {\n",
              "        text-align: right;\n",
              "    }\n",
              "</style>\n",
              "<table border=\"1\" class=\"dataframe\">\n",
              "  <thead>\n",
              "    <tr style=\"text-align: right;\">\n",
              "      <th></th>\n",
              "      <th>id</th>\n",
              "      <th>gender</th>\n",
              "      <th>ocp_cd</th>\n",
              "      <th>age</th>\n",
              "      <th>income</th>\n",
              "      <th>kp_txn_count</th>\n",
              "      <th>kp_txn_amt</th>\n",
              "      <th>cd_ex</th>\n",
              "    </tr>\n",
              "  </thead>\n",
              "  <tbody>\n",
              "    <tr>\n",
              "      <th>0</th>\n",
              "      <td>1</td>\n",
              "      <td>2</td>\n",
              "      <td>9.0</td>\n",
              "      <td>5</td>\n",
              "      <td>20000.0</td>\n",
              "      <td>2.0</td>\n",
              "      <td>3500.0</td>\n",
              "      <td>44700.0</td>\n",
              "    </tr>\n",
              "    <tr>\n",
              "      <th>1</th>\n",
              "      <td>2</td>\n",
              "      <td>2</td>\n",
              "      <td>3.0</td>\n",
              "      <td>4</td>\n",
              "      <td>29000.0</td>\n",
              "      <td>104.0</td>\n",
              "      <td>210000.0</td>\n",
              "      <td>65200.0</td>\n",
              "    </tr>\n",
              "    <tr>\n",
              "      <th>2</th>\n",
              "      <td>3</td>\n",
              "      <td>2</td>\n",
              "      <td>1.0</td>\n",
              "      <td>3</td>\n",
              "      <td>18000.0</td>\n",
              "      <td>70.0</td>\n",
              "      <td>139700.0</td>\n",
              "      <td>0.0</td>\n",
              "    </tr>\n",
              "    <tr>\n",
              "      <th>3</th>\n",
              "      <td>4</td>\n",
              "      <td>2</td>\n",
              "      <td>3.0</td>\n",
              "      <td>5</td>\n",
              "      <td>19000.0</td>\n",
              "      <td>315.0</td>\n",
              "      <td>6076100.0</td>\n",
              "      <td>770000.0</td>\n",
              "    </tr>\n",
              "    <tr>\n",
              "      <th>4</th>\n",
              "      <td>5</td>\n",
              "      <td>2</td>\n",
              "      <td>9.0</td>\n",
              "      <td>4</td>\n",
              "      <td>16000.0</td>\n",
              "      <td>0.0</td>\n",
              "      <td>0.0</td>\n",
              "      <td>12000.0</td>\n",
              "    </tr>\n",
              "  </tbody>\n",
              "</table>\n",
              "</div>"
            ],
            "text/plain": [
              "   id  gender  ocp_cd  age   income  kp_txn_count  kp_txn_amt     cd_ex\n",
              "0   1       2     9.0    5  20000.0           2.0      3500.0   44700.0\n",
              "1   2       2     3.0    4  29000.0         104.0    210000.0   65200.0\n",
              "2   3       2     1.0    3  18000.0          70.0    139700.0       0.0\n",
              "3   4       2     3.0    5  19000.0         315.0   6076100.0  770000.0\n",
              "4   5       2     9.0    4  16000.0           0.0         0.0   12000.0"
            ]
          },
          "metadata": {
            "tags": []
          },
          "execution_count": 43
        }
      ]
    },
    {
      "cell_type": "code",
      "metadata": {
        "id": "8XnezSA_ov_Q",
        "colab_type": "code",
        "outputId": "adacd77d-c5ee-4311-a6d2-e632328df905",
        "colab": {
          "base_uri": "https://localhost:8080/",
          "height": 173
        }
      },
      "source": [
        "main.isna().any()"
      ],
      "execution_count": 44,
      "outputs": [
        {
          "output_type": "execute_result",
          "data": {
            "text/plain": [
              "id              False\n",
              "gender          False\n",
              "ocp_cd          False\n",
              "age             False\n",
              "income          False\n",
              "kp_txn_count    False\n",
              "kp_txn_amt      False\n",
              "cd_ex           False\n",
              "dtype: bool"
            ]
          },
          "metadata": {
            "tags": []
          },
          "execution_count": 44
        }
      ]
    },
    {
      "cell_type": "code",
      "metadata": {
        "id": "q7tfAPvXlZXc",
        "colab_type": "code",
        "outputId": "da45dedc-6604-4cbe-c2b4-2c1801e58231",
        "colab": {
          "base_uri": "https://localhost:8080/",
          "height": 202
        }
      },
      "source": [
        "train_data = main[:50000]\n",
        "test_data = main[50000:]\n",
        "test_data = test_data.drop('income', axis=1)\n",
        "test_data.head()"
      ],
      "execution_count": 45,
      "outputs": [
        {
          "output_type": "execute_result",
          "data": {
            "text/html": [
              "<div>\n",
              "<style scoped>\n",
              "    .dataframe tbody tr th:only-of-type {\n",
              "        vertical-align: middle;\n",
              "    }\n",
              "\n",
              "    .dataframe tbody tr th {\n",
              "        vertical-align: top;\n",
              "    }\n",
              "\n",
              "    .dataframe thead th {\n",
              "        text-align: right;\n",
              "    }\n",
              "</style>\n",
              "<table border=\"1\" class=\"dataframe\">\n",
              "  <thead>\n",
              "    <tr style=\"text-align: right;\">\n",
              "      <th></th>\n",
              "      <th>id</th>\n",
              "      <th>gender</th>\n",
              "      <th>ocp_cd</th>\n",
              "      <th>age</th>\n",
              "      <th>kp_txn_count</th>\n",
              "      <th>kp_txn_amt</th>\n",
              "      <th>cd_ex</th>\n",
              "    </tr>\n",
              "  </thead>\n",
              "  <tbody>\n",
              "    <tr>\n",
              "      <th>50000</th>\n",
              "      <td>50001</td>\n",
              "      <td>1</td>\n",
              "      <td>9.0</td>\n",
              "      <td>3</td>\n",
              "      <td>28.0</td>\n",
              "      <td>64600.0</td>\n",
              "      <td>31800.0</td>\n",
              "    </tr>\n",
              "    <tr>\n",
              "      <th>50001</th>\n",
              "      <td>50002</td>\n",
              "      <td>1</td>\n",
              "      <td>9.0</td>\n",
              "      <td>4</td>\n",
              "      <td>131.0</td>\n",
              "      <td>93700.0</td>\n",
              "      <td>5900.0</td>\n",
              "    </tr>\n",
              "    <tr>\n",
              "      <th>50002</th>\n",
              "      <td>50003</td>\n",
              "      <td>1</td>\n",
              "      <td>3.0</td>\n",
              "      <td>4</td>\n",
              "      <td>83.0</td>\n",
              "      <td>202500.0</td>\n",
              "      <td>0.0</td>\n",
              "    </tr>\n",
              "    <tr>\n",
              "      <th>50003</th>\n",
              "      <td>50004</td>\n",
              "      <td>2</td>\n",
              "      <td>3.0</td>\n",
              "      <td>4</td>\n",
              "      <td>20.0</td>\n",
              "      <td>11000.0</td>\n",
              "      <td>7200.0</td>\n",
              "    </tr>\n",
              "    <tr>\n",
              "      <th>50004</th>\n",
              "      <td>50005</td>\n",
              "      <td>1</td>\n",
              "      <td>3.0</td>\n",
              "      <td>4</td>\n",
              "      <td>67.0</td>\n",
              "      <td>195500.0</td>\n",
              "      <td>14800.0</td>\n",
              "    </tr>\n",
              "  </tbody>\n",
              "</table>\n",
              "</div>"
            ],
            "text/plain": [
              "          id  gender  ocp_cd  age  kp_txn_count  kp_txn_amt    cd_ex\n",
              "50000  50001       1     9.0    3          28.0     64600.0  31800.0\n",
              "50001  50002       1     9.0    4         131.0     93700.0   5900.0\n",
              "50002  50003       1     3.0    4          83.0    202500.0      0.0\n",
              "50003  50004       2     3.0    4          20.0     11000.0   7200.0\n",
              "50004  50005       1     3.0    4          67.0    195500.0  14800.0"
            ]
          },
          "metadata": {
            "tags": []
          },
          "execution_count": 45
        }
      ]
    },
    {
      "cell_type": "code",
      "metadata": {
        "id": "B0f3DpEjkkmt",
        "colab_type": "code",
        "colab": {
          "base_uri": "https://localhost:8080/",
          "height": 202
        },
        "outputId": "69d5e790-7b9d-47d3-c68d-e43d08e3e23d"
      },
      "source": [
        "main.head()"
      ],
      "execution_count": 26,
      "outputs": [
        {
          "output_type": "execute_result",
          "data": {
            "text/html": [
              "<div>\n",
              "<style scoped>\n",
              "    .dataframe tbody tr th:only-of-type {\n",
              "        vertical-align: middle;\n",
              "    }\n",
              "\n",
              "    .dataframe tbody tr th {\n",
              "        vertical-align: top;\n",
              "    }\n",
              "\n",
              "    .dataframe thead th {\n",
              "        text-align: right;\n",
              "    }\n",
              "</style>\n",
              "<table border=\"1\" class=\"dataframe\">\n",
              "  <thead>\n",
              "    <tr style=\"text-align: right;\">\n",
              "      <th></th>\n",
              "      <th>id</th>\n",
              "      <th>gender</th>\n",
              "      <th>ocp_cd</th>\n",
              "      <th>age</th>\n",
              "      <th>income</th>\n",
              "      <th>kp_txn_count</th>\n",
              "      <th>kp_txn_amt</th>\n",
              "      <th>cd_ex</th>\n",
              "    </tr>\n",
              "  </thead>\n",
              "  <tbody>\n",
              "    <tr>\n",
              "      <th>0</th>\n",
              "      <td>1</td>\n",
              "      <td>2</td>\n",
              "      <td>9.0</td>\n",
              "      <td>5</td>\n",
              "      <td>20000.0</td>\n",
              "      <td>2.0</td>\n",
              "      <td>1750.000000</td>\n",
              "      <td>4470.000000</td>\n",
              "    </tr>\n",
              "    <tr>\n",
              "      <th>1</th>\n",
              "      <td>2</td>\n",
              "      <td>2</td>\n",
              "      <td>3.0</td>\n",
              "      <td>4</td>\n",
              "      <td>29000.0</td>\n",
              "      <td>104.0</td>\n",
              "      <td>8400.000000</td>\n",
              "      <td>2244.485294</td>\n",
              "    </tr>\n",
              "    <tr>\n",
              "      <th>2</th>\n",
              "      <td>3</td>\n",
              "      <td>2</td>\n",
              "      <td>1.0</td>\n",
              "      <td>3</td>\n",
              "      <td>18000.0</td>\n",
              "      <td>70.0</td>\n",
              "      <td>6652.380952</td>\n",
              "      <td>0.000000</td>\n",
              "    </tr>\n",
              "    <tr>\n",
              "      <th>3</th>\n",
              "      <td>4</td>\n",
              "      <td>2</td>\n",
              "      <td>3.0</td>\n",
              "      <td>5</td>\n",
              "      <td>19000.0</td>\n",
              "      <td>315.0</td>\n",
              "      <td>243044.000000</td>\n",
              "      <td>20585.284281</td>\n",
              "    </tr>\n",
              "    <tr>\n",
              "      <th>4</th>\n",
              "      <td>5</td>\n",
              "      <td>2</td>\n",
              "      <td>9.0</td>\n",
              "      <td>4</td>\n",
              "      <td>16000.0</td>\n",
              "      <td>0.0</td>\n",
              "      <td>0.000000</td>\n",
              "      <td>4000.000000</td>\n",
              "    </tr>\n",
              "  </tbody>\n",
              "</table>\n",
              "</div>"
            ],
            "text/plain": [
              "   id  gender  ocp_cd  age   income  kp_txn_count     kp_txn_amt         cd_ex\n",
              "0   1       2     9.0    5  20000.0           2.0    1750.000000   4470.000000\n",
              "1   2       2     3.0    4  29000.0         104.0    8400.000000   2244.485294\n",
              "2   3       2     1.0    3  18000.0          70.0    6652.380952      0.000000\n",
              "3   4       2     3.0    5  19000.0         315.0  243044.000000  20585.284281\n",
              "4   5       2     9.0    4  16000.0           0.0       0.000000   4000.000000"
            ]
          },
          "metadata": {
            "tags": []
          },
          "execution_count": 26
        }
      ]
    },
    {
      "cell_type": "code",
      "metadata": {
        "id": "u8Bq_SNmr2_o",
        "colab_type": "code",
        "colab": {}
      },
      "source": [
        "from google.colab import files\n",
        "\n",
        "main.to_csv('main.csv', index=False)\n",
        "files.download('main.csv')"
      ],
      "execution_count": 0,
      "outputs": []
    },
    {
      "cell_type": "code",
      "metadata": {
        "id": "XABuwBs3G4e2",
        "colab_type": "code",
        "colab": {}
      },
      "source": [
        ""
      ],
      "execution_count": 0,
      "outputs": []
    }
  ]
}