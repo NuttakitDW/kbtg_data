{
  "nbformat": 4,
  "nbformat_minor": 0,
  "metadata": {
    "colab": {
      "name": "model",
      "provenance": [],
      "collapsed_sections": [],
      "include_colab_link": true
    },
    "kernelspec": {
      "name": "python3",
      "display_name": "Python 3"
    },
    "accelerator": "GPU"
  },
  "cells": [
    {
      "cell_type": "markdown",
      "metadata": {
        "id": "view-in-github",
        "colab_type": "text"
      },
      "source": [
        "<a href=\"https://colab.research.google.com/github/NuttakitDW/kbtg_data/blob/master/version5_89.ipynb\" target=\"_parent\"><img src=\"https://colab.research.google.com/assets/colab-badge.svg\" alt=\"Open In Colab\"/></a>"
      ]
    },
    {
      "cell_type": "code",
      "metadata": {
        "id": "otBfVfe1vMmM",
        "colab_type": "code",
        "colab": {}
      },
      "source": [
        "import pandas as pd\n",
        "import numpy as np\n",
        "from sklearn.model_selection import train_test_split"
      ],
      "execution_count": 0,
      "outputs": []
    },
    {
      "cell_type": "code",
      "metadata": {
        "id": "45XVz7dttMAr",
        "colab_type": "code",
        "outputId": "43f6342e-ea95-4a8b-9e5f-df3b58c0dda0",
        "colab": {
          "base_uri": "https://localhost:8080/",
          "height": 202
        }
      },
      "source": [
        "#version 4\n",
        "data = pd.read_csv('https://raw.githubusercontent.com/NuttakitDW/kbtg_data/master/train_data_v4.csv')\n",
        "test_X = pd.read_csv('https://raw.githubusercontent.com/NuttakitDW/kbtg_data/master/test_data_v4.csv')\n",
        "data.head()"
      ],
      "execution_count": 96,
      "outputs": [
        {
          "output_type": "execute_result",
          "data": {
            "text/html": [
              "<div>\n",
              "<style scoped>\n",
              "    .dataframe tbody tr th:only-of-type {\n",
              "        vertical-align: middle;\n",
              "    }\n",
              "\n",
              "    .dataframe tbody tr th {\n",
              "        vertical-align: top;\n",
              "    }\n",
              "\n",
              "    .dataframe thead th {\n",
              "        text-align: right;\n",
              "    }\n",
              "</style>\n",
              "<table border=\"1\" class=\"dataframe\">\n",
              "  <thead>\n",
              "    <tr style=\"text-align: right;\">\n",
              "      <th></th>\n",
              "      <th>id</th>\n",
              "      <th>gender</th>\n",
              "      <th>ocp_cd</th>\n",
              "      <th>age</th>\n",
              "      <th>income</th>\n",
              "      <th>kp_txn_count</th>\n",
              "      <th>kp_txn_amt</th>\n",
              "      <th>cd_ex</th>\n",
              "      <th>cc_month_mean</th>\n",
              "      <th>kp_month_mean</th>\n",
              "    </tr>\n",
              "  </thead>\n",
              "  <tbody>\n",
              "    <tr>\n",
              "      <th>0</th>\n",
              "      <td>1</td>\n",
              "      <td>2</td>\n",
              "      <td>9.0</td>\n",
              "      <td>5</td>\n",
              "      <td>20000</td>\n",
              "      <td>2.0</td>\n",
              "      <td>3500.0</td>\n",
              "      <td>44700.0</td>\n",
              "      <td>11175.0</td>\n",
              "      <td>3.500000e+03</td>\n",
              "    </tr>\n",
              "    <tr>\n",
              "      <th>1</th>\n",
              "      <td>2</td>\n",
              "      <td>2</td>\n",
              "      <td>3.0</td>\n",
              "      <td>4</td>\n",
              "      <td>106000</td>\n",
              "      <td>104.0</td>\n",
              "      <td>210000.0</td>\n",
              "      <td>65200.0</td>\n",
              "      <td>14385.0</td>\n",
              "      <td>3.500000e+04</td>\n",
              "    </tr>\n",
              "    <tr>\n",
              "      <th>2</th>\n",
              "      <td>3</td>\n",
              "      <td>2</td>\n",
              "      <td>1.0</td>\n",
              "      <td>3</td>\n",
              "      <td>29000</td>\n",
              "      <td>70.0</td>\n",
              "      <td>139700.0</td>\n",
              "      <td>0.0</td>\n",
              "      <td>0.0</td>\n",
              "      <td>2.328333e+04</td>\n",
              "    </tr>\n",
              "    <tr>\n",
              "      <th>3</th>\n",
              "      <td>4</td>\n",
              "      <td>2</td>\n",
              "      <td>3.0</td>\n",
              "      <td>5</td>\n",
              "      <td>61000</td>\n",
              "      <td>315.0</td>\n",
              "      <td>6076100.0</td>\n",
              "      <td>770000.0</td>\n",
              "      <td>500000.0</td>\n",
              "      <td>1.012683e+06</td>\n",
              "    </tr>\n",
              "    <tr>\n",
              "      <th>4</th>\n",
              "      <td>5</td>\n",
              "      <td>2</td>\n",
              "      <td>9.0</td>\n",
              "      <td>4</td>\n",
              "      <td>18000</td>\n",
              "      <td>0.0</td>\n",
              "      <td>0.0</td>\n",
              "      <td>12000.0</td>\n",
              "      <td>6000.0</td>\n",
              "      <td>0.000000e+00</td>\n",
              "    </tr>\n",
              "  </tbody>\n",
              "</table>\n",
              "</div>"
            ],
            "text/plain": [
              "   id  gender  ocp_cd  age  ...  kp_txn_amt     cd_ex  cc_month_mean  kp_month_mean\n",
              "0   1       2     9.0    5  ...      3500.0   44700.0        11175.0   3.500000e+03\n",
              "1   2       2     3.0    4  ...    210000.0   65200.0        14385.0   3.500000e+04\n",
              "2   3       2     1.0    3  ...    139700.0       0.0            0.0   2.328333e+04\n",
              "3   4       2     3.0    5  ...   6076100.0  770000.0       500000.0   1.012683e+06\n",
              "4   5       2     9.0    4  ...         0.0   12000.0         6000.0   0.000000e+00\n",
              "\n",
              "[5 rows x 10 columns]"
            ]
          },
          "metadata": {
            "tags": []
          },
          "execution_count": 96
        }
      ]
    },
    {
      "cell_type": "code",
      "metadata": {
        "id": "3bfcWezTw48b",
        "colab_type": "code",
        "outputId": "e01a75cb-4e20-4bd0-8e8f-386d7017b8b7",
        "colab": {
          "base_uri": "https://localhost:8080/",
          "height": 202
        }
      },
      "source": [
        "data['overall'] = data['kp_txn_amt'] + data['cd_ex']\n",
        "data.head()"
      ],
      "execution_count": 97,
      "outputs": [
        {
          "output_type": "execute_result",
          "data": {
            "text/html": [
              "<div>\n",
              "<style scoped>\n",
              "    .dataframe tbody tr th:only-of-type {\n",
              "        vertical-align: middle;\n",
              "    }\n",
              "\n",
              "    .dataframe tbody tr th {\n",
              "        vertical-align: top;\n",
              "    }\n",
              "\n",
              "    .dataframe thead th {\n",
              "        text-align: right;\n",
              "    }\n",
              "</style>\n",
              "<table border=\"1\" class=\"dataframe\">\n",
              "  <thead>\n",
              "    <tr style=\"text-align: right;\">\n",
              "      <th></th>\n",
              "      <th>id</th>\n",
              "      <th>gender</th>\n",
              "      <th>ocp_cd</th>\n",
              "      <th>age</th>\n",
              "      <th>income</th>\n",
              "      <th>kp_txn_count</th>\n",
              "      <th>kp_txn_amt</th>\n",
              "      <th>cd_ex</th>\n",
              "      <th>cc_month_mean</th>\n",
              "      <th>kp_month_mean</th>\n",
              "      <th>overall</th>\n",
              "    </tr>\n",
              "  </thead>\n",
              "  <tbody>\n",
              "    <tr>\n",
              "      <th>0</th>\n",
              "      <td>1</td>\n",
              "      <td>2</td>\n",
              "      <td>9.0</td>\n",
              "      <td>5</td>\n",
              "      <td>20000</td>\n",
              "      <td>2.0</td>\n",
              "      <td>3500.0</td>\n",
              "      <td>44700.0</td>\n",
              "      <td>11175.0</td>\n",
              "      <td>3.500000e+03</td>\n",
              "      <td>48200.0</td>\n",
              "    </tr>\n",
              "    <tr>\n",
              "      <th>1</th>\n",
              "      <td>2</td>\n",
              "      <td>2</td>\n",
              "      <td>3.0</td>\n",
              "      <td>4</td>\n",
              "      <td>106000</td>\n",
              "      <td>104.0</td>\n",
              "      <td>210000.0</td>\n",
              "      <td>65200.0</td>\n",
              "      <td>14385.0</td>\n",
              "      <td>3.500000e+04</td>\n",
              "      <td>275200.0</td>\n",
              "    </tr>\n",
              "    <tr>\n",
              "      <th>2</th>\n",
              "      <td>3</td>\n",
              "      <td>2</td>\n",
              "      <td>1.0</td>\n",
              "      <td>3</td>\n",
              "      <td>29000</td>\n",
              "      <td>70.0</td>\n",
              "      <td>139700.0</td>\n",
              "      <td>0.0</td>\n",
              "      <td>0.0</td>\n",
              "      <td>2.328333e+04</td>\n",
              "      <td>139700.0</td>\n",
              "    </tr>\n",
              "    <tr>\n",
              "      <th>3</th>\n",
              "      <td>4</td>\n",
              "      <td>2</td>\n",
              "      <td>3.0</td>\n",
              "      <td>5</td>\n",
              "      <td>61000</td>\n",
              "      <td>315.0</td>\n",
              "      <td>6076100.0</td>\n",
              "      <td>770000.0</td>\n",
              "      <td>500000.0</td>\n",
              "      <td>1.012683e+06</td>\n",
              "      <td>6846100.0</td>\n",
              "    </tr>\n",
              "    <tr>\n",
              "      <th>4</th>\n",
              "      <td>5</td>\n",
              "      <td>2</td>\n",
              "      <td>9.0</td>\n",
              "      <td>4</td>\n",
              "      <td>18000</td>\n",
              "      <td>0.0</td>\n",
              "      <td>0.0</td>\n",
              "      <td>12000.0</td>\n",
              "      <td>6000.0</td>\n",
              "      <td>0.000000e+00</td>\n",
              "      <td>12000.0</td>\n",
              "    </tr>\n",
              "  </tbody>\n",
              "</table>\n",
              "</div>"
            ],
            "text/plain": [
              "   id  gender  ocp_cd  age  ...     cd_ex  cc_month_mean  kp_month_mean    overall\n",
              "0   1       2     9.0    5  ...   44700.0        11175.0   3.500000e+03    48200.0\n",
              "1   2       2     3.0    4  ...   65200.0        14385.0   3.500000e+04   275200.0\n",
              "2   3       2     1.0    3  ...       0.0            0.0   2.328333e+04   139700.0\n",
              "3   4       2     3.0    5  ...  770000.0       500000.0   1.012683e+06  6846100.0\n",
              "4   5       2     9.0    4  ...   12000.0         6000.0   0.000000e+00    12000.0\n",
              "\n",
              "[5 rows x 11 columns]"
            ]
          },
          "metadata": {
            "tags": []
          },
          "execution_count": 97
        }
      ]
    },
    {
      "cell_type": "code",
      "metadata": {
        "id": "uvMc3a-Fs1wd",
        "colab_type": "code",
        "colab": {
          "base_uri": "https://localhost:8080/",
          "height": 297
        },
        "outputId": "8d1bab01-6890-431e-bd66-c5b6c8cd7b77"
      },
      "source": [
        "import seaborn as sns\n",
        "sns.boxplot(x=data['income'])"
      ],
      "execution_count": 98,
      "outputs": [
        {
          "output_type": "execute_result",
          "data": {
            "text/plain": [
              "<matplotlib.axes._subplots.AxesSubplot at 0x7f997a2a11d0>"
            ]
          },
          "metadata": {
            "tags": []
          },
          "execution_count": 98
        },
        {
          "output_type": "display_data",
          "data": {
            "image/png": "[encoded data removed]",
            "text/plain": [
              "<Figure size 432x288 with 1 Axes>"
            ]
          },
          "metadata": {
            "tags": []
          }
        }
      ]
    },
    {
      "cell_type": "code",
      "metadata": {
        "id": "263M5Lv0xDve",
        "colab_type": "code",
        "colab": {}
      },
      "source": [
        "test_X['overall'] = test_X['kp_txn_amt'] + test_X['cd_ex']"
      ],
      "execution_count": 0,
      "outputs": []
    },
    {
      "cell_type": "code",
      "metadata": {
        "id": "JAi72MtcFbe9",
        "colab_type": "code",
        "colab": {
          "base_uri": "https://localhost:8080/",
          "height": 497
        },
        "outputId": "166049f0-9500-4daf-d7e6-38b63f3efb4c"
      },
      "source": [
        "import matplotlib.pyplot as plt\n",
        "fig, ax = plt.subplots(figsize=(16,8))\n",
        "ax.scatter(data['overall'], data['income'])\n",
        "ax.set_xlabel('overall')\n",
        "ax.set_ylabel('income')\n",
        "plt.show()"
      ],
      "execution_count": 121,
      "outputs": [
        {
          "output_type": "display_data",
          "data": {
            "image/png": "[encoded data removed]",
            "text/plain": [
              "<Figure size 1152x576 with 1 Axes>"
            ]
          },
          "metadata": {
            "tags": []
          }
        }
      ]
    },
    {
      "cell_type": "code",
      "metadata": {
        "id": "dMmoLPQMKCm2",
        "colab_type": "code",
        "colab": {}
      },
      "source": [
        "data_im = data.copy()"
      ],
      "execution_count": 0,
      "outputs": []
    },
    {
      "cell_type": "code",
      "metadata": {
        "id": "nyCL3h4ZF9CN",
        "colab_type": "code",
        "colab": {}
      },
      "source": [
        "#remove outlier by remove data that have overall > 0.6e8 & income > 3e5\n",
        "indexNames = data_im[((data['income'] > 3e5) & (data['overall'] > 0.4e8))].index\n",
        "data_im.drop(indexNames , inplace=True)"
      ],
      "execution_count": 0,
      "outputs": []
    },
    {
      "cell_type": "code",
      "metadata": {
        "id": "lnGbyzoyLAm7",
        "colab_type": "code",
        "colab": {
          "base_uri": "https://localhost:8080/",
          "height": 72
        },
        "outputId": "0d223f61-1740-4fa7-8088-a8dfb320f41d"
      },
      "source": [
        "indexNames2 = data_im[data['overall'] > 0.8e8].index\n",
        "data_im.drop(indexNames2 , inplace=True)"
      ],
      "execution_count": 146,
      "outputs": [
        {
          "output_type": "stream",
          "text": [
            "/usr/local/lib/python3.6/dist-packages/ipykernel_launcher.py:1: UserWarning: Boolean Series key will be reindexed to match DataFrame index.\n",
            "  \"\"\"Entry point for launching an IPython kernel.\n"
          ],
          "name": "stderr"
        }
      ]
    },
    {
      "cell_type": "code",
      "metadata": {
        "id": "x-8fHKv_Gzqj",
        "colab_type": "code",
        "colab": {
          "base_uri": "https://localhost:8080/",
          "height": 497
        },
        "outputId": "a3a89b3e-0bd3-4435-95b2-736b467db538"
      },
      "source": [
        "fig, ax = plt.subplots(figsize=(16,8))\n",
        "ax.scatter(data_im['overall'], data_im['income'])\n",
        "ax.set_xlabel('overall')\n",
        "ax.set_ylabel('income')\n",
        "plt.show()"
      ],
      "execution_count": 147,
      "outputs": [
        {
          "output_type": "display_data",
          "data": {
            "image/png": "[encoded data removed]",
            "text/plain": [
              "<Figure size 1152x576 with 1 Axes>"
            ]
          },
          "metadata": {
            "tags": []
          }
        }
      ]
    },
    {
      "cell_type": "code",
      "metadata": {
        "id": "uS4S2R3l3z2L",
        "colab_type": "code",
        "colab": {}
      },
      "source": [
        "y = data.income\n",
        "X = data.drop(['income'], axis=1)\n",
        "feature = ['ocp_cd', 'age', 'cd_ex', 'kp_txn_amt', 'kp_txn_count', 'gender', 'cc_month_mean', 'kp_month_mean', 'overall']\n",
        "X = X[feature]\n",
        "\n",
        "X_train_full, X_valid_full, y_train, y_valid = train_test_split(X, y, train_size=0.8, test_size=0.2, random_state=0)\n",
        "\n",
        "categorical_cols = [cname for cname in ['ocp_cd', 'age', 'gender']]\n",
        "\n",
        "# Select numerical columns\n",
        "numerical_cols = [cname for cname in X_train_full.columns if X_train_full[cname].dtype in ['int64', 'float64']]\n",
        "\n",
        "# Keep selected columns only\n",
        "my_cols = categorical_cols + numerical_cols\n",
        "X_train = X_train_full.copy()\n",
        "X_valid = X_valid_full.copy()"
      ],
      "execution_count": 0,
      "outputs": []
    },
    {
      "cell_type": "code",
      "metadata": {
        "id": "zwJO-vn05zdi",
        "colab_type": "code",
        "colab": {}
      },
      "source": [
        "y = data_im.income\n",
        "X = data_im.drop(['income'], axis=1)\n",
        "feature = ['ocp_cd', 'age', 'cd_ex', 'kp_txn_amt', 'kp_txn_count', 'gender', 'cc_month_mean', 'kp_month_mean', 'overall']\n",
        "X = X[feature]\n",
        "\n",
        "X_train_full2, X_valid_full2, y_train2, y_valid2 = train_test_split(X, y, train_size=0.8, test_size=0.2, random_state=0)\n",
        "X_train2 = X_train_full2.copy()\n",
        "X_valid2 = X_valid_full2.copy()"
      ],
      "execution_count": 0,
      "outputs": []
    },
    {
      "cell_type": "code",
      "metadata": {
        "id": "21y8yKQ6FTPV",
        "colab_type": "code",
        "colab": {}
      },
      "source": [
        "from sklearn.compose import ColumnTransformer\n",
        "from sklearn.pipeline import Pipeline\n",
        "from sklearn.impute import SimpleImputer\n",
        "from sklearn.preprocessing import OneHotEncoder\n",
        "from sklearn.metrics import mean_absolute_error\n",
        "\n",
        "# Preprocessing for numerical data\n",
        "numerical_transformer = SimpleImputer(strategy='constant')\n",
        "\n",
        "# Preprocessing for categorical data\n",
        "categorical_transformer = Pipeline(steps=[\n",
        "    ('imputer', SimpleImputer(strategy='most_frequent')),\n",
        "    ('onehot', OneHotEncoder(handle_unknown='ignore'))\n",
        "])\n",
        "\n",
        "# Bundle preprocessing for numerical and categorical data\n",
        "preprocessor = ColumnTransformer(\n",
        "    transformers=[\n",
        "        ('num', numerical_transformer, numerical_cols),\n",
        "        ('cat', categorical_transformer, categorical_cols)\n",
        "    ])"
      ],
      "execution_count": 0,
      "outputs": []
    },
    {
      "cell_type": "code",
      "metadata": {
        "id": "USh7wlpsTu1u",
        "colab_type": "code",
        "colab": {}
      },
      "source": [
        "from sklearn.model_selection import RandomizedSearchCV\n",
        "import xgboost as xgb\n",
        "from sklearn.model_selection import cross_val_score, GridSearchCV, KFold, RandomizedSearchCV, train_test_split\n",
        "xgb_model = xgb.XGBRegressor(objective=\"reg:linear\", random_state=42, \n",
        "                             learning_rate=0.01, gamma=0.3, max_depth=10, \n",
        "                             colsample_bytree=1, subsample=0.7, reg_alpha=0, reg_lambda=3,\n",
        "                             min_child_weight=7, n_estimators=250\n",
        "                             )"
      ],
      "execution_count": 0,
      "outputs": []
    },
    {
      "cell_type": "code",
      "metadata": {
        "id": "amTv10g-IaaR",
        "colab_type": "code",
        "outputId": "9126fa1d-991d-403f-9807-3800db4dba28",
        "colab": {
          "base_uri": "https://localhost:8080/",
          "height": 107
        }
      },
      "source": [
        "# Bundle preprocessing and modeling code in a pipeline\n",
        "my_pipeline = Pipeline(steps=[('preprocessor', preprocessor),\n",
        "                              ('model', xgb_model)\n",
        "                             ])\n",
        "\n",
        "# Preprocessing of training data, fit model \n",
        "my_pipeline.fit(X_train2, y_train2)\n",
        "\n",
        "# Preprocessing of validation data, get predictions\n",
        "preds = my_pipeline.predict(X_valid)\n",
        "\n",
        "# Evaluate the model\n",
        "score = mean_absolute_error(y_valid, preds)\n",
        "print('MAE:', score)"
      ],
      "execution_count": 153,
      "outputs": [
        {
          "output_type": "stream",
          "text": [
            "/usr/local/lib/python3.6/dist-packages/xgboost/core.py:587: FutureWarning: Series.base is deprecated and will be removed in a future version\n",
            "  if getattr(data, 'base', None) is not None and \\\n"
          ],
          "name": "stderr"
        },
        {
          "output_type": "stream",
          "text": [
            "[17:50:23] WARNING: /workspace/src/objective/regression_obj.cu:152: reg:linear is now deprecated in favor of reg:squarederror.\n",
            "MAE: 21557.573957226563\n"
          ],
          "name": "stdout"
        }
      ]
    },
    {
      "cell_type": "markdown",
      "metadata": {
        "id": "zdgAFyrIL91Q",
        "colab_type": "text"
      },
      "source": [
        "MAE: 21557.573957226563\n"
      ]
    },
    {
      "cell_type": "markdown",
      "metadata": {
        "id": "iyK-wCG1ncvL",
        "colab_type": "text"
      },
      "source": [
        "Learning Rate:  0.01\n",
        "Gamma:  0.3\n",
        "Max Depth:  10\n",
        "Subsample:  0.7\n",
        "Max Features at Split:  1.0\n",
        "Alpha:  0\n",
        "Lamda:  3\n",
        "Minimum Sum of the Instance Weight Hessian to Make a Child:  7\n",
        "Number of Trees:  250\n",
        "\n"
      ]
    },
    {
      "cell_type": "code",
      "metadata": {
        "id": "rIxLXpdu5BKS",
        "colab_type": "code",
        "colab": {}
      },
      "source": [
        "res = my_pipeline.predict(test_X[feature])"
      ],
      "execution_count": 0,
      "outputs": []
    },
    {
      "cell_type": "code",
      "metadata": {
        "id": "RNyAmRORRgEk",
        "colab_type": "code",
        "colab": {}
      },
      "source": [
        "X_valid.head()"
      ],
      "execution_count": 0,
      "outputs": []
    },
    {
      "cell_type": "code",
      "metadata": {
        "id": "CQy_u5hCK4h1",
        "colab_type": "code",
        "colab": {}
      },
      "source": [
        "from google.colab import files\n",
        "\n",
        "output = pd.DataFrame({'id': test_X['id'],\n",
        "                       'income': res})\n",
        "\n",
        "\n",
        "output.to_csv('submission5.csv', index=False)\n",
        "files.download('submission5.csv')"
      ],
      "execution_count": 0,
      "outputs": []
    },
    {
      "cell_type": "code",
      "metadata": {
        "id": "CYtEHkOBLW8r",
        "colab_type": "code",
        "colab": {}
      },
      "source": [
        "output.tail()"
      ],
      "execution_count": 0,
      "outputs": []
    }
  ]
}